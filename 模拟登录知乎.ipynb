{
 "cells": [
  {
   "cell_type": "code",
   "execution_count": 85,
   "metadata": {},
   "outputs": [
    {
     "name": "stdout",
     "output_type": "stream",
     "text": [
      "200\n",
      "9f5824b2f764a2bd0b563330f0afec6b\n"
     ]
    }
   ],
   "source": [
    "import requests\n",
    "from lxml import etree\n",
    "\n",
    "s=requests.Session()\n",
    "url='https://www.zhihu.com/#signin'\n",
    "s.headers={'User-Agent':'Mozilla/5.0 (Windows NT 10.0; Win64; x64) AppleWebKit/537.36 (KHTML, like Gecko) Chrome/58.0.3029.110 Safari/537.36',\n",
    "          'Cookie':'q_c1=f1226ea197fa4e4b94d5a92704874c45|1495899998000|1495899998000; _zap=3e505dd0-7259-4174-b0da-30c38c76572e; d_c0=\"ADBCXk-50guPTpeTFGS2GAroTFZD9fWLSqM=|1495900000\"; _xsrf=9f5824b2f764a2bd0b563330f0afec6b; r_cap_id=\"ZDZhN2U0YjMxNzJhNDBkZmE3ODQ3NTE4NWE5ZWU1MTM=|1497094238|03092532b24ea82f7aeb87a593f1a7aebace375f\"; cap_id=\"MWM2Njc1YjBhNDJhNGVmZGI3NTNhNmI5ZTQyN2RmNTY=|1497094238|6970750dc63413c714f322d45c2a861ecc6cf942\"; __utma=51854390.1923978876.1495899998.1497042097.1497089031.23; __utmb=51854390.0.10.1497089031; __utmc=51854390; __utmz=51854390.1497089031.23.5.utmcsr=zhuanlan.zhihu.com|utmccn=(referral)|utmcmd=referral|utmcct=/p/25711916; __utmv=51854390.100-1|2=registration_date=20141207=1^3=entry_date=20141207=1; z_c0=Mi4wQUFBQVRrNURBQUFBTUVKZVQ3blNDeGNBQUFCaEFsVk45MlpqV1FDLU9LY2N1a0JWMm1ob19Sdm1BY0piRkFiVkV3|1497095805|fc366fcae2b79bf1fbd9b458787e7a46ab7862a1',\n",
    "          'Host':'www.zhihu.com',\n",
    "          #'Referer':'https://www.zhihu.com/'\n",
    "          }\n",
    "z=s.get(url)\n",
    "print z.status_code\n",
    "\n",
    "\n",
    "sel=etree.HTML(z.content)\n",
    "_xsrf=sel.xpath('//input[@name=\"_xsrf\"]/@value')[0]\n",
    "print _xsrf"
   ]
  },
  {
   "cell_type": "code",
   "execution_count": 86,
   "metadata": {
    "scrolled": true
   },
   "outputs": [
    {
     "name": "stdout",
     "output_type": "stream",
     "text": [
      "200\n",
      "{\"r\":0,\n",
      " \"msg\": \"\\u767b\\u5f55\\u6210\\u529f\"\n",
      "}\n",
      "登录成功\n"
     ]
    }
   ],
   "source": [
    "loginurl = 'https://www.zhihu.com/login/email'\n",
    "formdata = {\n",
    "    'email':'email',\n",
    "    'password':'xxxxx',\n",
    "    '_xsrf':_xsrf\n",
    "    }\n",
    "z2 = s.post(url=loginurl,data=formdata)\n",
    "print z2.status_code\n",
    "\n",
    "print z2.content\n",
    "# '{\"r\":0,\\n \"msg\": \"\\\\u767b\\\\u5f55\\\\u6210\\\\u529f\"\\n}'\n",
    "print z2.json()['msg']"
   ]
  },
  {
   "cell_type": "code",
   "execution_count": 87,
   "metadata": {
    "collapsed": true
   },
   "outputs": [],
   "source": [
    "cookie=z2.headers['Set-Cookie']\n"
   ]
  },
  {
   "cell_type": "code",
   "execution_count": 88,
   "metadata": {},
   "outputs": [
    {
     "data": {
      "text/plain": [
       "u'https://www.zhihu.com/people/pa-chong-21/logs'"
      ]
     },
     "execution_count": 88,
     "metadata": {},
     "output_type": "execute_result"
    }
   ],
   "source": [
    "mylog='https://www.zhihu.com/people/pa-chong-21/logs'\n",
    "headers={\n",
    "    'User-Agent':'Mozilla/5.0 (Windows NT 10.0; Win64; x64) AppleWebKit/537.36 (KHTML, like Gecko) Chrome/58.0.3029.110 Safari/537.36',\n",
    "}\n",
    "headers['Cookie']=cookie\n",
    "z3=requests.get(url=mylog,headers=headers)\n",
    "\n",
    "z3.url"
   ]
  },
  {
   "cell_type": "markdown",
   "metadata": {},
   "source": [
    "成功"
   ]
  },
  {
   "cell_type": "code",
   "execution_count": null,
   "metadata": {
    "collapsed": true
   },
   "outputs": [],
   "source": []
  }
 ],
 "metadata": {
  "kernelspec": {
   "display_name": "Python 2",
   "language": "python",
   "name": "python2"
  },
  "language_info": {
   "codemirror_mode": {
    "name": "ipython",
    "version": 2
   },
   "file_extension": ".py",
   "mimetype": "text/x-python",
   "name": "python",
   "nbconvert_exporter": "python",
   "pygments_lexer": "ipython2",
   "version": "2.7.13"
  }
 },
 "nbformat": 4,
 "nbformat_minor": 2
}
