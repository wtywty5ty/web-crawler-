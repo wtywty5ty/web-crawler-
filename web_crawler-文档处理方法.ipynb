{
 "cells": [
  {
   "cell_type": "markdown",
   "metadata": {},
   "source": [
    "# re"
   ]
  },
  {
   "cell_type": "raw",
   "metadata": {},
   "source": [
    "import urllib2\n",
    "import re\n",
    "\n",
    "reg=r'http.(d+).jpg'\n",
    "reg=re.compile(reg)\n",
    "response=urllib2.urlopen(\"http://xxx.com\")\n",
    "result=re.findall(response.read(),reg)"
   ]
  },
  {
   "cell_type": "markdown",
   "metadata": {},
   "source": [
    "正则是用来匹配文档的，但写起来比较麻烦"
   ]
  },
  {
   "cell_type": "markdown",
   "metadata": {},
   "source": [
    "# xpath"
   ]
  },
  {
   "cell_type": "code",
   "execution_count": 2,
   "metadata": {},
   "outputs": [
    {
     "name": "stdout",
     "output_type": "stream",
     "text": [
      "<Element html at 0x2e7d888>\n"
     ]
    }
   ],
   "source": [
    "from lxml import etree\n",
    "\n",
    "# 定义一个函数，给他一个html，返回xml结构\n",
    "def getxpath(html):\n",
    "    return etree.HTML(html)\n",
    "\n",
    "# 下面是我们实战的第一个html\n",
    "sample1 = \"\"\"<html>\n",
    "  <head>\n",
    "    <title>My page</title>\n",
    "  </head>\n",
    "  <body>\n",
    "    <h2>Welcome to my <a href=\"#\" src=\"x\">page</a></h2>\n",
    "    <p>This is the first paragraph.</p>\n",
    "    <!-- this is the end -->\n",
    "  </body>\n",
    "</html>\n",
    "\"\"\"\n",
    "\n",
    "s1 = getxpath(sample1)\n",
    "\n",
    "print s1"
   ]
  },
  {
   "cell_type": "code",
   "execution_count": 4,
   "metadata": {},
   "outputs": [
    {
     "data": {
      "text/plain": [
       "['My page']"
      ]
     },
     "execution_count": 4,
     "metadata": {},
     "output_type": "execute_result"
    }
   ],
   "source": [
    "s1.xpath('//title/text()')\n",
    "s1.xpath('/html/head/title/text()')"
   ]
  },
  {
   "cell_type": "code",
   "execution_count": 3,
   "metadata": {},
   "outputs": [
    {
     "data": {
      "text/plain": [
       "['x']"
      ]
     },
     "execution_count": 3,
     "metadata": {},
     "output_type": "execute_result"
    }
   ],
   "source": [
    "s1.xpath('//h2/a/@src')"
   ]
  },
  {
   "cell_type": "code",
   "execution_count": 4,
   "metadata": {},
   "outputs": [
    {
     "data": {
      "text/plain": [
       "['#']"
      ]
     },
     "execution_count": 4,
     "metadata": {},
     "output_type": "execute_result"
    }
   ],
   "source": [
    "s1.xpath('//@href')"
   ]
  },
  {
   "cell_type": "code",
   "execution_count": 8,
   "metadata": {},
   "outputs": [
    {
     "data": {
      "text/plain": [
       "['\\n  ',\n",
       " '\\n    ',\n",
       " 'My page',\n",
       " '\\n  ',\n",
       " '\\n  ',\n",
       " '\\n    ',\n",
       " 'Welcome to my ',\n",
       " 'page',\n",
       " '\\n    ',\n",
       " 'This is the first paragraph.',\n",
       " '\\n    ',\n",
       " '\\n  ',\n",
       " '\\n']"
      ]
     },
     "execution_count": 8,
     "metadata": {},
     "output_type": "execute_result"
    }
   ],
   "source": [
    "s1.xpath('//text()')"
   ]
  },
  {
   "cell_type": "code",
   "execution_count": 10,
   "metadata": {},
   "outputs": [
    {
     "data": {
      "text/plain": [
       "[<!-- this is the end -->]"
      ]
     },
     "execution_count": 10,
     "metadata": {},
     "output_type": "execute_result"
    }
   ],
   "source": [
    "s1.xpath('//comment()')"
   ]
  },
  {
   "cell_type": "markdown",
   "metadata": {},
   "source": [
    "获取文本用text\\n\n",
    "获取注释用comment"
   ]
  },
  {
   "cell_type": "code",
   "execution_count": 11,
   "metadata": {
    "collapsed": true
   },
   "outputs": [],
   "source": [
    "sample2 = \"\"\"\n",
    "<html>\n",
    "  <body>\n",
    "    <ul>\n",
    "      <li>Quote 1</li>\n",
    "      <li>Quote 2 with <a href=\"...\">link</a></li>\n",
    "      <li>Quote 3 with <a href=\"...\">another link</a></li>\n",
    "      <li><h2>Quote 4 title</h2> ...</li>\n",
    "    </ul>\n",
    "  </body>\n",
    "</html>\n",
    "\"\"\"\n",
    "s2 = getxpath(sample2)"
   ]
  },
  {
   "cell_type": "code",
   "execution_count": 12,
   "metadata": {},
   "outputs": [
    {
     "data": {
      "text/plain": [
       "['Quote 1', 'Quote 2 with ', 'Quote 3 with ', ' ...']"
      ]
     },
     "execution_count": 12,
     "metadata": {},
     "output_type": "execute_result"
    }
   ],
   "source": [
    "s2.xpath('//li/text()')"
   ]
  },
  {
   "cell_type": "code",
   "execution_count": 38,
   "metadata": {},
   "outputs": [
    {
     "data": {
      "text/plain": [
       "['Quote 1']"
      ]
     },
     "execution_count": 38,
     "metadata": {},
     "output_type": "execute_result"
    }
   ],
   "source": [
    "#获取第一个li\n",
    "s2.xpath('//li[1]/text()')"
   ]
  },
  {
   "cell_type": "code",
   "execution_count": 23,
   "metadata": {},
   "outputs": [
    {
     "data": {
      "text/plain": [
       "[' ...']"
      ]
     },
     "execution_count": 23,
     "metadata": {},
     "output_type": "execute_result"
    }
   ],
   "source": [
    "#最后的li\n",
    "s2.xpath('//li[last()]/text()')"
   ]
  },
  {
   "cell_type": "code",
   "execution_count": 37,
   "metadata": {},
   "outputs": [
    {
     "data": {
      "text/plain": [
       "['Quote 2 with ', 'Quote 3 with ', ' ...']"
      ]
     },
     "execution_count": 37,
     "metadata": {},
     "output_type": "execute_result"
    }
   ],
   "source": [
    "#li 下面有 a 或 h2 的\n",
    "s2.xpath('//li[a or h2]/text()')"
   ]
  },
  {
   "cell_type": "code",
   "execution_count": 40,
   "metadata": {
    "collapsed": true
   },
   "outputs": [],
   "source": [
    "sample3 = \"\"\"<html>\n",
    "  <body>\n",
    "    <ul>\n",
    "      <li id=\"begin\"><a href=\"https://scrapy.org\">Scrapy</a>begin</li>\n",
    "      <li><a href=\"https://scrapinghub.com\">Scrapinghub</a></li>\n",
    "      <li><a href=\"https://blog.scrapinghub.com\">Scrapinghub Blog</a></li>\n",
    "      <li id=\"end\"><a href=\"http://quotes.toscrape.com\">Quotes To Scrape</a>end</li>\n",
    "      <li data-xxxx=\"end\" abc=\"abc\"><a href=\"http://quotes.toscrape.com\">Quotes To Scrape</a>end</li>\n",
    "    </ul>\n",
    "  </body>\n",
    "</html>\n",
    "\"\"\"\n",
    "s3 = getxpath(sample3)"
   ]
  },
  {
   "cell_type": "code",
   "execution_count": 44,
   "metadata": {},
   "outputs": [
    {
     "data": {
      "text/plain": [
       "['begin']"
      ]
     },
     "execution_count": 44,
     "metadata": {},
     "output_type": "execute_result"
    }
   ],
   "source": [
    "s3.xpath('//li[@id=\"begin\"]/text()')"
   ]
  },
  {
   "cell_type": "code",
   "execution_count": 45,
   "metadata": {},
   "outputs": [
    {
     "data": {
      "text/plain": [
       "['Scrapy']"
      ]
     },
     "execution_count": 45,
     "metadata": {},
     "output_type": "execute_result"
    }
   ],
   "source": [
    "s3.xpath('//a[@href=\"https://scrapy.org\"]/text()')"
   ]
  },
  {
   "cell_type": "code",
   "execution_count": 47,
   "metadata": {},
   "outputs": [
    {
     "data": {
      "text/plain": [
       "['Scrapinghub']"
      ]
     },
     "execution_count": 47,
     "metadata": {},
     "output_type": "execute_result"
    }
   ],
   "source": [
    "s3.xpath('//a[text()=\"Scrapinghub\"]/text()')"
   ]
  },
  {
   "cell_type": "code",
   "execution_count": 48,
   "metadata": {
    "collapsed": true
   },
   "outputs": [],
   "source": [
    "sample4 = u\"\"\"\n",
    "<html>\n",
    "  <head>\n",
    "    <title>My page</title>\n",
    "  </head>\n",
    "  <body>\n",
    "    <h2>Welcome to my <a href=\"#\" src=\"x\">page</a></h2>\n",
    "    <p>This is the first paragraph.</p>\n",
    "    <p class=\"test\">\n",
    "    编程语言<a href=\"#\">python</a>\n",
    "    <img src=\"#\" alt=\"test\"/>javascript\n",
    "    <a href=\"#\"><strong>C#</strong>JAVA</a>\n",
    "    </p>\n",
    "    <p class=\"content-a\">a</p>\n",
    "    <p class=\"content-b\">b</p>\n",
    "    <p class=\"content-c\">c</p>\n",
    "    <p class=\"content-d\">d</p>\n",
    "    <p class=\"econtent-e\">e</p>\n",
    "    <p class=\"heh\">f</p>\n",
    "    <!-- this is the end -->\n",
    "  </body>\n",
    "</html>\n",
    "\"\"\"\n",
    "s4 = etree.HTML(sample4)"
   ]
  },
  {
   "cell_type": "code",
   "execution_count": 51,
   "metadata": {},
   "outputs": [
    {
     "name": "stdout",
     "output_type": "stream",
     "text": [
      "\n",
      "    编程语言python\n",
      "    javascript\n",
      "    C#JAVA\n",
      "    \n"
     ]
    }
   ],
   "source": [
    "print s4.xpath('string(//p[@class=\"test\"])')"
   ]
  },
  {
   "cell_type": "code",
   "execution_count": 53,
   "metadata": {},
   "outputs": [
    {
     "data": {
      "text/plain": [
       "['a', 'b', 'c', 'd']"
      ]
     },
     "execution_count": 53,
     "metadata": {},
     "output_type": "execute_result"
    }
   ],
   "source": [
    "s4.xpath('//p[starts-with(@class,\"content\")]/text()')"
   ]
  },
  {
   "cell_type": "code",
   "execution_count": 54,
   "metadata": {},
   "outputs": [
    {
     "data": {
      "text/plain": [
       "['a', 'b', 'c', 'd', 'e']"
      ]
     },
     "execution_count": 54,
     "metadata": {},
     "output_type": "execute_result"
    }
   ],
   "source": [
    "s4.xpath('//p[contains(@class,\"content\")]/text()')"
   ]
  },
  {
   "cell_type": "markdown",
   "metadata": {},
   "source": [
    "# Beautifulsoup"
   ]
  },
  {
   "cell_type": "markdown",
   "metadata": {},
   "source": [
    "http://cuiqingcai.com/1319.html 讲解"
   ]
  },
  {
   "cell_type": "code",
   "execution_count": null,
   "metadata": {
    "collapsed": true
   },
   "outputs": [],
   "source": []
  }
 ],
 "metadata": {
  "kernelspec": {
   "display_name": "Python 2",
   "language": "python",
   "name": "python2"
  },
  "language_info": {
   "codemirror_mode": {
    "name": "ipython",
    "version": 2
   },
   "file_extension": ".py",
   "mimetype": "text/x-python",
   "name": "python",
   "nbconvert_exporter": "python",
   "pygments_lexer": "ipython2",
   "version": "2.7.13"
  }
 },
 "nbformat": 4,
 "nbformat_minor": 2
}
